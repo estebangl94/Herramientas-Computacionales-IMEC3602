{
 "cells": [
  {
   "cell_type": "markdown",
   "metadata": {},
   "source": [
    "# Calculo de Pi\n",
    "Se pretende calcular el numero Pi por medio de metodos estadisticos.\n",
    "\n",
    "Las ecuaciones empleadas derivan de la geometria simple\n",
    "    \n",
    "   **Area de un circulo**\n",
    "   \n",
    "   $Ac=Pi*r^2$\n",
    "    \n",
    "   **Area de un cuarto de circulo**\n",
    "   \n",
    "   $Acq=Ac/4$\n",
    "    \n",
    "Para un ciculo de radio uniatario, centrado en el origen, igualando las ecuaciones anteriores resulta:\n",
    "\n",
    "   **Ecuacion para calcular Pi**\n",
    "\n",
    "   $Pi=4*\\frac{Acq}{r^2} \\approx 4*\\frac{N(Acq)}{N(r^2)}$\n",
    "    \n",
    "Donde para el calculo del numero Pi, $N(Acq)$ corresponde a la cantidad de numeros aleatorios que quedan dentro de este cuarto de circunferencia, y $N(r^2)$ (area de un cuadrado de lado r que contiene el cuarto de circulo) corresponde al total de numeros aleatorios dentro de todo el cuadro.\n",
    "    \n",
    "    "
   ]
  },
  {
   "cell_type": "code",
   "execution_count": 8,
   "metadata": {
    "scrolled": false
   },
   "outputs": [
    {
     "name": "stdout",
     "output_type": "stream",
     "text": [
      "Que cantidad de numeros aleatorios?500000\n",
      "El valor calculado de Pi es: [ 3.144264]\n"
     ]
    }
   ],
   "source": [
    "#Calculo de Pi\n",
    "#import numpy as n\n",
    "\n",
    "#Puntos cartecianos aleatorios (x, y) situados en el primer cuadrante, para\n",
    "#un intervalo (0, 1), en un circulo de radio unitario centrado en el origen.\n",
    "\n",
    "N=int(input('Que cantidad de numeros aleatorios?' ))\n",
    "\n",
    "if N>100000000:\n",
    "    N=100000000\n",
    "    print('El numero maximo de nuemros aleatorios es', N)\n",
    "    print('y con el se calculara Pi.')\n",
    "    print('Espere un momento...')\n",
    "\n",
    "rx=np.random.rand(N,1)\n",
    "ry=np.random.rand(N,1)\n",
    "r=np.sqrt((rx*rx)+(ry*ry))\n",
    "\n",
    "#print('rx', rx)\n",
    "#print('ry', ry)\n",
    "#print('r', r)\n",
    "\n",
    "#Determinacion de si un punto se encuantra dentro o fuera del circulo.\n",
    "_in=sum(r[:]<1)\n",
    "\n",
    "#Valor calculado de Pi\n",
    "pi=4*_in/N\n",
    "\n",
    "print('El valor calculado de Pi es:', pi)"
   ]
  },
  {
   "cell_type": "markdown",
   "metadata": {
    "collapsed": true
   },
   "source": [
    "## Analisis\n",
    "\n",
    "Tras correr el codigo para el calculo del numero Pi varias veces para diferentes N (donde N es el numero aleatorio de puntos en el primer cuadrante en un intervalo (0, 1)), se encontro una relacion directamente proporcional entre N y la exactitud de Pi. En el codigo en cuestion se creo una limitante de un maximo de 100 000 000 datos aleatoreos ($N\\leq100000000$) para evitar una demora sustancial en el calculo de **Pi**."
   ]
  },
  {
   "cell_type": "code",
   "execution_count": null,
   "metadata": {
    "collapsed": true
   },
   "outputs": [],
   "source": [
    "# Grafica P(N)- Pi/4 en escala log-log"
   ]
  }
 ],
 "metadata": {
  "kernelspec": {
   "display_name": "Python 3",
   "language": "python",
   "name": "python3"
  },
  "language_info": {
   "codemirror_mode": {
    "name": "ipython",
    "version": 3
   },
   "file_extension": ".py",
   "mimetype": "text/x-python",
   "name": "python",
   "nbconvert_exporter": "python",
   "pygments_lexer": "ipython3",
   "version": "3.6.3"
  }
 },
 "nbformat": 4,
 "nbformat_minor": 2
}
