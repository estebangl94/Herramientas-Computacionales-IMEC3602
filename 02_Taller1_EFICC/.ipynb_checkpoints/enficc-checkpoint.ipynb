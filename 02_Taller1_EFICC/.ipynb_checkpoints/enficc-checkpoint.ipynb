{
 "cells": [
  {
   "cell_type": "markdown",
   "metadata": {},
   "source": [
    "En este cuaderno se implementan algunas funciones y algunos segmentos de código que pueden ser útiles para el desarrollo del [Taller 1](https://github.com/andresgm/Herramientas-Computacionales/tree/master/02_taller01) del curso.  \n",
    "\n",
    "Comienzo importando dos librerías que no habíamos usado hasta ahora en el curso.\n",
    "\n",
    "La librería os nos permite interactuar con algunas funcionalidades del sistema operativo. La vamos a utilizar para construir rutas a archivos que sean independientes del sistema operativo utilizado.\n",
    "\n",
    "La librería pandas es muy utilizada para análisis de datos. En primera instancia implementa una estructura de datos llamada 'dataframe' similar a una hoja de calculo. Adicionalmente, implementa numerosas funciones para realizar calculos estadísticos sobre estas estructuras."
   ]
  },
  {
   "cell_type": "code",
   "execution_count": 3,
   "metadata": {
    "inputHidden": false,
    "outputHidden": false
   },
   "outputs": [],
   "source": [
    "import os\n",
    "import pandas as pd"
   ]
  },
  {
   "cell_type": "markdown",
   "metadata": {},
   "source": [
    "Tradicional comando para facilitar el cálculo interactivo."
   ]
  },
  {
   "cell_type": "code",
   "execution_count": 4,
   "metadata": {
    "inputHidden": false,
    "outputHidden": false
   },
   "outputs": [
    {
     "name": "stdout",
     "output_type": "stream",
     "text": [
      "Populating the interactive namespace from numpy and matplotlib\n"
     ]
    }
   ],
   "source": [
    "%pylab inline"
   ]
  },
  {
   "cell_type": "markdown",
   "metadata": {},
   "source": [
    "En la siguiente celda muestro cómo podemos leer los datos desde archivos .csv a pandas dataframes.\n",
    "\n",
    "Acá se puede apreciar el uso de *os.path.join* para la creación de las rutas de los archivos. \n",
    "\n",
    "Noten la configuración de la función pd.read_csv. El parámetro sep=';' determina que las variables están separadas por punto y coma y no por coma. El encoding='latin-1' permite leer correctamente caracteres como la 'ñ'."
   ]
  },
  {
   "cell_type": "code",
   "execution_count": 5,
   "metadata": {
    "inputHidden": false,
    "outputHidden": false
   },
   "outputs": [
    {
     "data": {
      "text/plain": [
       "'C:\\\\Users\\\\andres\\\\Documents\\\\GitHub\\\\Herramientas-Computacionales\\\\02_taller01'"
      ]
     },
     "execution_count": 5,
     "metadata": {},
     "output_type": "execute_result"
    }
   ],
   "source": [
    "pwd"
   ]
  },
  {
   "cell_type": "code",
   "execution_count": 6,
   "metadata": {
    "inputHidden": false,
    "outputHidden": false
   },
   "outputs": [],
   "source": [
    "base_dir = os.path.join( '.','data')\n",
    "output_dir = os.path.join( '.','output')\n",
    "ciudad = 'Valledupar'\n",
    "fuente = 'IDEAM'\n",
    "serie_csv = os.path.join(base_dir,ciudad,fuente+'.csv')\n",
    "serie_pd = pd.read_csv(serie_csv, sep = ';',\n",
    "                encoding='latin-1')"
   ]
  },
  {
   "cell_type": "code",
   "execution_count": 7,
   "metadata": {
    "inputHidden": false,
    "outputHidden": false
   },
   "outputs": [
    {
     "data": {
      "text/plain": [
       "<bound method NDFrame.head of         AÑO  MES  DIA  HORA       IDEAM\n",
       "0      2006    1    1     0    0.000000\n",
       "1      2006    1    1     1    0.000000\n",
       "2      2006    1    1     2    0.000000\n",
       "3      2006    1    1     3    0.000000\n",
       "4      2006    1    1     4    0.000000\n",
       "5      2006    1    1     5    0.000000\n",
       "6      2006    1    1     6    0.000000\n",
       "7      2006    1    1     7   41.559251\n",
       "8      2006    1    1     8  238.699288\n",
       "9      2006    1    1     9  455.020517\n",
       "10     2006    1    1    10  624.454387\n",
       "11     2006    1    1    11  734.213434\n",
       "12     2006    1    1    12  777.903929\n",
       "13     2006    1    1    13  757.657114\n",
       "14     2006    1    1    14  706.507267\n",
       "15     2006    1    1    15  586.092001\n",
       "16     2006    1    1    16  412.395644\n",
       "17     2006    1    1    17  206.730633\n",
       "18     2006    1    1    18   25.574924\n",
       "19     2006    1    1    19    0.000000\n",
       "20     2006    1    1    20    0.000000\n",
       "21     2006    1    1    21    0.000000\n",
       "22     2006    1    1    22    0.000000\n",
       "23     2006    1    1    23    0.000000\n",
       "24     2006    1    2     0    0.000000\n",
       "25     2006    1    2     1    0.000000\n",
       "26     2006    1    2     2    0.000000\n",
       "27     2006    1    2     3    0.000000\n",
       "28     2006    1    2     4    0.000000\n",
       "29     2006    1    2     5    0.000000\n",
       "...     ...  ...  ...   ...         ...\n",
       "87618  2015   12   30    18   15.984655\n",
       "87619  2015   12   30    19    0.000000\n",
       "87620  2015   12   30    20    0.000000\n",
       "87621  2015   12   30    21    0.000000\n",
       "87622  2015   12   30    22    0.000000\n",
       "87623  2015   12   30    23    0.000000\n",
       "87624  2015   12   31     0    0.000000\n",
       "87625  2015   12   31     1    0.000000\n",
       "87626  2015   12   31     2    0.000000\n",
       "87627  2015   12   31     3    0.000000\n",
       "87628  2015   12   31     4    0.000000\n",
       "87629  2015   12   31     5    0.000000\n",
       "87630  2015   12   31     6    1.065644\n",
       "87631  2015   12   31     7   45.822677\n",
       "87632  2015   12   31     8  262.148338\n",
       "87633  2015   12   31     9  501.918159\n",
       "87634  2015   12   31    10  668.158568\n",
       "87635  2015   12   31    11  540.281330\n",
       "87636  2015   12   31    12  895.140665\n",
       "87637  2015   12   31    13  885.549872\n",
       "87638  2015   12   31    14  817.348679\n",
       "87639  2015   12   31    15  657.502131\n",
       "87640  2015   12   31    16  463.554987\n",
       "87641  2015   12   31    17  225.916454\n",
       "87642  2015   12   31    18   19.181586\n",
       "87643  2015   12   31    19    0.000000\n",
       "87644  2015   12   31    20    0.000000\n",
       "87645  2015   12   31    21    0.000000\n",
       "87646  2015   12   31    22    0.000000\n",
       "87647  2015   12   31    23    0.000000\n",
       "\n",
       "[87648 rows x 5 columns]>"
      ]
     },
     "execution_count": 7,
     "metadata": {},
     "output_type": "execute_result"
    }
   ],
   "source": [
    "serie_pd.head"
   ]
  },
  {
   "cell_type": "markdown",
   "metadata": {},
   "source": [
    "En la siguiente celda, implemento dos funciones útiles para realizar algunos de los cálculo necesarios para el cálculo de la ENFICC como está determinado en la [Resolución CREG 071 de 2006](http://apolo.creg.gov.co/Publicac.nsf/1c09d18d2d5ffb5b05256eee00709c02/4f8f33924247ce4a0525785a007a6d74?OpenDocument).  \n",
    "\n",
    "La función *ghi_mensual* calcula la energía total en $kWh/m^2$ para cada mes en la serie de datos. Con esta información, la función *ghi_dia* calcula el promedio diario de cada mes."
   ]
  },
  {
   "cell_type": "code",
   "execution_count": 8,
   "metadata": {
    "inputHidden": false,
    "outputHidden": false
   },
   "outputs": [],
   "source": [
    "def ghi_mensual(serie_horaria):\n",
    "    agnos = sorted(serie_horaria['AÑO'].unique())\n",
    "    ghi_df = pd.DataFrame(columns=[\"AÑO\", \"MES\", \"DIAS\", \"GHImes\"])\n",
    "    for agno in agnos:\n",
    "        for mes in range(1,13):\n",
    "            nombre_energia = list(serie_horaria)[-1]\n",
    "            dias = sorted(serie_horaria[(serie_horaria['AÑO'] == agno) &\n",
    "                        (serie_horaria['MES'] == mes)][\"DIA\"].unique())\n",
    "            ghi_mes = serie_horaria.loc[((serie_horaria[\"AÑO\"] == agno)\n",
    "                            & (serie_horaria[\"MES\"] == mes)),\n",
    "                                        nombre_energia].sum()/1000\n",
    "            ghi_dict = {\"AÑO\":agno, \"MES\":mes, \"DIAS\":dias[-1],\n",
    "                        \"GHImes\":ghi_mes}\n",
    "            ghi_df = ghi_df.append(ghi_dict, ignore_index=True)\n",
    "    return ghi_df\n",
    "\n",
    "def ghi_dia(serie_ghi_mensual):\n",
    "    agnos = sorted(serie_ghi_mensual['AÑO'].unique())\n",
    "    ghi_df = pd.DataFrame(columns=[\"AÑO\", \"MES\", \"GHIdiario\"])\n",
    "    for agno in agnos:\n",
    "        for mes in range(1,13):\n",
    "            dias = serie_ghi_mensual.loc[((serie_ghi_mensual[\"AÑO\"] == agno)\n",
    "                            & (serie_ghi_mensual[\"MES\"] == mes))\n",
    "                                         ,\"DIAS\"].item()\n",
    "            ghi_diario = serie_ghi_mensual.loc[(\n",
    "                (serie_ghi_mensual[\"AÑO\"] == agno)\n",
    "                            & (serie_ghi_mensual[\"MES\"] == mes)),\n",
    "                \"GHImes\"].item()/dias\n",
    "            ghi_dict = {\"AÑO\":agno, \"MES\":mes, \"GHIdiario\":ghi_diario}\n",
    "            ghi_df = ghi_df.append(ghi_dict, ignore_index=True)\n",
    "    return ghi_df"
   ]
  },
  {
   "cell_type": "markdown",
   "metadata": {},
   "source": [
    "En la siguiente celda se utilizan las dos funciones definidas previamente y se organizan los valores promedio mensuales."
   ]
  },
  {
   "cell_type": "code",
   "execution_count": 9,
   "metadata": {
    "inputHidden": false,
    "outputHidden": false
   },
   "outputs": [],
   "source": [
    "ghi_mensual_loc = ghi_mensual(serie_pd)\n",
    "ghi_diario_loc = ghi_dia(ghi_mensual_loc)\n",
    "datos_IDEAM = sorted(ghi_diario_loc[\"GHIdiario\"])"
   ]
  },
  {
   "cell_type": "markdown",
   "metadata": {},
   "source": [
    "A continuación hago una sencilla gráfica de la distribución de energía promedio mensual."
   ]
  },
  {
   "cell_type": "code",
   "execution_count": 10,
   "metadata": {
    "inputHidden": false,
    "outputHidden": false
   },
   "outputs": [
    {
     "data": {
      "image/png": "[encoded data removed]",
      "text/plain": [
       "<matplotlib.figure.Figure at 0x21d02773f28>"
      ]
     },
     "metadata": {},
     "output_type": "display_data"
    }
   ],
   "source": [
    "pylab.xlabel(\"Datos\")\n",
    "pylab.ylabel(\"Energía/Energía Base IDEAM\")\n",
    "numdatos = range(len(datos_IDEAM))\n",
    "pylab.plot(numdatos,datos_IDEAM/datos_IDEAM[0],'-k', label='IDEAM')\n",
    "pylab.legend(loc='upper left')\n",
    "pylab.savefig(os.path.join(output_dir,'valledupar_IDEAM.png'), dpi=600)"
   ]
  },
  {
   "cell_type": "markdown",
   "metadata": {},
   "source": [
    "Finalmente, se calcula el percentil correspondiente al valor de la ENFICC que se desea calcular."
   ]
  },
  {
   "cell_type": "code",
   "execution_count": 11,
   "metadata": {
    "inputHidden": false,
    "outputHidden": false
   },
   "outputs": [
    {
     "name": "stdout",
     "output_type": "stream",
     "text": [
      "La ENFICC 99% es:  4.56900737661\n"
     ]
    }
   ],
   "source": [
    "percentil = 0.01\n",
    "enficc = ghi_diario_loc.quantile(q=percentil, \n",
    "                                 numeric_only=True)[\"GHIdiario\"]\n",
    "print('La ENFICC 99% es: ', enficc)"
   ]
  },
  {
   "cell_type": "code",
   "execution_count": 12,
   "metadata": {
    "inputHidden": false,
    "outputHidden": false
   },
   "outputs": [
    {
     "data": {
      "text/plain": [
       "['AÑO', 'MES', 'DIAS', 'GHImes']"
      ]
     },
     "execution_count": 12,
     "metadata": {},
     "output_type": "execute_result"
    }
   ],
   "source": [
    "list(ghi_mensual_loc)"
   ]
  },
  {
   "cell_type": "code",
   "execution_count": null,
   "metadata": {
    "inputHidden": false,
    "outputHidden": false
   },
   "outputs": [],
   "source": []
  }
 ],
 "metadata": {
  "kernel_info": {
   "name": "python3"
  },
  "kernelspec": {
   "display_name": "Python 3",
   "language": "python",
   "name": "python3"
  },
  "language_info": {
   "codemirror_mode": {
    "name": "ipython",
    "version": 3
   },
   "file_extension": ".py",
   "mimetype": "text/x-python",
   "name": "python",
   "nbconvert_exporter": "python",
   "pygments_lexer": "ipython3",
   "version": "3.5.4"
  },
  "nteract": {
   "version": "0.6.2"
  }
 },
 "nbformat": 4,
 "nbformat_minor": 4
}
