{
 "cells": [
  {
   "cell_type": "markdown",
   "metadata": {
    "collapsed": true
   },
   "source": [
    "# ENFICC - Taller 1\n",
    "\n",
    "## Esteban Garcia Leaño - 201326495\n",
    "\n",
    "\n",
    "## Introduccion\n",
    "\n",
    "   Si bien se encuentran numerosas aplicaciones en ámbitos de ingeniería para el tratamiento de datos en la cotidianidad, en este caso, es de particular interés la estimación de la radiación solar en ciertas ciudades de Colombia para estimar si es o no conveniente la implementación de sistemas de recolección de energía solar.\n",
    "\n",
    "   Así, siguiendo la resolución CREG 201 de 2017 que definió la metodología para el cálculo de la Energía en Firme para el Cargo por Confiabilidad - ENFICC, se pretende ajustar datos de radiación adquiridos de sistemas satelitales a datos tomados en los puntos de interés sobre tierra para así poder cumplir con el requerimiento de contar con series de datos con más de 10 años para un mismo lugar.\n",
    "   \n",
    "   Para lograrlo se crearon funciones que permitan extraer y analizar datos de radiación local provenientes de archivos .csv.\n",
    "   \n",
    "### Objetivo Principal\n",
    "* El presente taller tiene como objetivo familiarizar al estudiante con herramientas computacionales como lo es python en la utilización de bases de datos en formatos .csv.\n",
    "\n",
    "### Objetivo Especifico\n",
    "* Encontrar la Energía en Firme para el Cargo por Confiabilidad - ENFICC a partir de datos satelitales ajustados por medio del metodo MCP y ver su proximidad a esta misma medición para datos tomados en tierra por el IDEAM.\n",
    "\n",
    "   \n",
    "## Requerimientos del taller\n",
    "1. Implementar una función para el cálculo de la ENFICC. La entrada a dicha función es una serie de 10 años en resolución          horaria y la salida debe ser la ENFICC 99%, es decir la energía que se espera se puede superar el 99% del tiempo.\n",
    "\n",
    "* Implementar una función que permita graficar la distribución de energía (Figura 38 del protocolo) y comparar entre diferentes series. La entrada corresponde a las diferentes series de 10 años en resolución horaria y la salida debe una gráfica similar a la mostrada en el documento.\n",
    "\n",
    "* Implementar una función para la Metodología Medición-Correlación-Predicción (MCP) basada en la relación de varianzas planteada en la sección 3.1.4 del protocolo. La entrada a la función es la serie de corto plazo medida en sitio (OBJ) y la serie secundaría basada en información satelital correspondiente a 10 años de medición (REF). La salida debe corresponder a la serie de largo plazo (10 año, resolución horaria) ajustada siguiendo la metodología MCP.\n",
    "\n",
    "* Implemente funciones para el cálculo de los indicadores de error planteados en la sección 3.1.2 del protocolo, error RMS (RMSEn), error de sesgo medio (MBE) y Indice de Kolmogorov-Smagorinski (KSI%), la entrada a estas funciones son dos series de largo plazo (10 años y resolución horaria) y la salida el indicador de error dado.\n",
    "\n",
    "* Analice la eficacia del método MCP - relación de varianzas para reducir los indicadores de error y el error en la ENFICC para series de tiempo de diferentes localizaciones en el territorio nacional. Analice el efecto de la longitud de la series de tiempo medida en sitio (OBJ) y el año utilizado. Comente sus hayazgos y complete su análisis con gráficas de buena calidad.\n",
    "\n",
    "* El informe debe ser entregado en formato Jupyter Notebook a más tardar el día viernes 16 de febrero antes de las 17:00. La entrega se hace a través de un enlace a su cuaderno en Github a través de la plataforma Sicua+.\n"
   ]
  },
  {
   "cell_type": "markdown",
   "metadata": {},
   "source": [
    "***"
   ]
  },
  {
   "cell_type": "code",
   "execution_count": 1308,
   "metadata": {},
   "outputs": [
    {
     "name": "stdout",
     "output_type": "stream",
     "text": [
      "Populating the interactive namespace from numpy and matplotlib\n"
     ]
    }
   ],
   "source": [
    "# Importando librerias\n",
    "\n",
    "import os\n",
    "import pandas as pd\n",
    "from IPython.display import Image\n",
    "\n",
    "%pylab inline"
   ]
  },
  {
   "cell_type": "code",
   "execution_count": 1309,
   "metadata": {},
   "outputs": [
    {
     "data": {
      "text/plain": [
       "'/home/nbuser/library/02_Taller1_EFICC'"
      ]
     },
     "execution_count": 1309,
     "metadata": {},
     "output_type": "execute_result"
    }
   ],
   "source": [
    "pwd"
   ]
  },
  {
   "cell_type": "markdown",
   "metadata": {},
   "source": [
    "***"
   ]
  },
  {
   "cell_type": "markdown",
   "metadata": {},
   "source": [
    "## IDEAM - Toma de radiación en tierra\n",
    "\n",
    "A partir de datos aportados por el IDEAM de mediciones en tierra en resolución horaria, se crearon las funciones a continuación para una ciudad de interés y así ver la radiación local normalizada promedio graficada en periodos mensuales."
   ]
  },
  {
   "cell_type": "code",
   "execution_count": 1310,
   "metadata": {},
   "outputs": [],
   "source": [
    "# Extracción de datos de archivo .csv\n",
    "\n",
    "base_dir_IDEAM = os.path.join( '.','data')\n",
    "output_dir = os.path.join( '.','output')\n",
    "ciudad_IDEAM = 'Cali'\n",
    "fuente = 'IDEAM'\n",
    "serie_csv_IDEAM = os.path.join(base_dir_IDEAM,ciudad_IDEAM,fuente+'.csv')\n",
    "serie_pd_IDEAM = pd.read_csv(serie_csv_IDEAM, sep = ';', encoding='latin-1')"
   ]
  },
  {
   "cell_type": "code",
   "execution_count": 1311,
   "metadata": {},
   "outputs": [],
   "source": [
    "# Funciones para organizar datos extraidos en diferentes resoluciones (mensual y diaria)\n",
    "\n",
    "def ghi_mensual(serie_horaria):\n",
    "    agnos = sorted(serie_horaria['AÑO'].unique())\n",
    "    ghi_df = pd.DataFrame(columns=[\"AÑO\", \"MES\", \"DIAS\", \"GHImes\"])\n",
    "    for agno in agnos:\n",
    "        for mes in range(1,13):\n",
    "            nombre_energia = list(serie_horaria)[-1]\n",
    "            dias = sorted(serie_horaria[(serie_horaria['AÑO'] == agno) &\n",
    "                        (serie_horaria['MES'] == mes)][\"DIA\"].unique())\n",
    "            ghi_mes = serie_horaria.loc[((serie_horaria[\"AÑO\"] == agno)\n",
    "                            & (serie_horaria[\"MES\"] == mes)),\n",
    "                                        nombre_energia].sum()/1000\n",
    "            ghi_dict = {\"AÑO\":agno, \"MES\":mes, \"DIAS\":dias[-1],\n",
    "                        \"GHImes\":ghi_mes}\n",
    "            ghi_df = ghi_df.append(ghi_dict, ignore_index=True)\n",
    "    return ghi_df\n",
    "\n",
    "def ghi_dia(serie_ghi_mensual):\n",
    "    agnos = sorted(serie_ghi_mensual['AÑO'].unique())\n",
    "    ghi_df = pd.DataFrame(columns=[\"AÑO\", \"MES\", \"GHIdiario\"])\n",
    "    for agno in agnos:\n",
    "        for mes in range(1,13):\n",
    "            dias = serie_ghi_mensual.loc[((serie_ghi_mensual[\"AÑO\"] == agno)\n",
    "                            & (serie_ghi_mensual[\"MES\"] == mes))\n",
    "                                         ,\"DIAS\"].item()\n",
    "            ghi_diario = serie_ghi_mensual.loc[(\n",
    "                (serie_ghi_mensual[\"AÑO\"] == agno)\n",
    "                            & (serie_ghi_mensual[\"MES\"] == mes)),\n",
    "                \"GHImes\"].item()/dias\n",
    "            ghi_dict = {\"AÑO\":agno, \"MES\":mes, \"GHIdiario\":ghi_diario}\n",
    "            ghi_df = ghi_df.append(ghi_dict, ignore_index=True)\n",
    "    return ghi_df"
   ]
  },
  {
   "cell_type": "code",
   "execution_count": 1312,
   "metadata": {},
   "outputs": [],
   "source": [
    "# Utilización de funciones antes definidas para reorganizar Datos en resolución horaria en resoluciones diaria y mensual\n",
    "\n",
    "ghi_mensual_loc_IDEAM = ghi_mensual(serie_pd_IDEAM)\n",
    "ghi_diario_loc_IDEAM = ghi_dia(ghi_mensual_loc_IDEAM)\n",
    "datos_IDEAM = sorted(ghi_diario_loc_IDEAM[\"GHIdiario\"])"
   ]
  },
  {
   "cell_type": "code",
   "execution_count": 1313,
   "metadata": {
    "scrolled": true
   },
   "outputs": [
    {
     "data": {
      "image/png": "[encoded data removed]",
      "text/plain": [
       "<matplotlib.figure.Figure at 0x7f8d6dd4ecc0>"
      ]
     },
     "metadata": {},
     "output_type": "display_data"
    }
   ],
   "source": [
    "# Grafica de energía normalizada contra timepo en meses\n",
    "\n",
    "pylab.xlabel(\"Meses\")\n",
    "pylab.ylabel(\"Energía/Energía Base IDEAM\")\n",
    "pylab.title(ciudad_IDEAM+' IDEAM',fontweight=\"bold\")\n",
    "numdatos = range(len(datos_IDEAM))\n",
    "pylab.plot(numdatos,datos_IDEAM/datos_IDEAM[0],'-k', label=ciudad_IDEAM+' IDEAM')\n",
    "pylab.legend(loc='upper left')\n",
    "pylab.savefig(os.path.join(output_dir, ciudad_IDEAM+'_IDEAM.png'), dpi=600)"
   ]
  },
  {
   "cell_type": "markdown",
   "metadata": {},
   "source": [
    "***"
   ]
  },
  {
   "cell_type": "markdown",
   "metadata": {},
   "source": [
    "## Gráficas de GHI a partir de IDEAM\n",
    "\n",
    "A continuación se presentan las gráfica, para cuatro ciudades diferentes, del GHI empleando el código inmediatamente anterior.\n",
    "\n",
    "<img src=\"output/Cali_IDEAM.png\",width=500, height=200>\n",
    "##### <div style=\"text-align: center;\">Gráfica 1. GHI local de Cali según IDEAM</div>\n",
    "\n",
    "<img src=\"output/Carmendebolivar_IDEAM.png\",width=500, height=200>\n",
    "##### <div style=\"text-align: center;\">Gráfica 2. GHI local de Carmen de Bolivar según IDEAM</div>\n",
    "\n",
    "<img src=\"output/Medellin_IDEAM.png\",width=500, height=200>\n",
    "##### <div style=\"text-align: center;\">Gráfica 3. GHI local de Medellin según IDEAM</div>\n",
    "\n",
    "<img src=\"output/Uribia_IDEAM.png\",width=500, height=200>\n",
    "##### <div style=\"text-align: center;\">Gráfica 4. GHI local de Uribia según IDEAM</div>"
   ]
  },
  {
   "cell_type": "markdown",
   "metadata": {},
   "source": [
    "***"
   ]
  },
  {
   "cell_type": "markdown",
   "metadata": {},
   "source": [
    "## NREL - Datos Satelitales"
   ]
  },
  {
   "cell_type": "code",
   "execution_count": 1314,
   "metadata": {},
   "outputs": [],
   "source": [
    "# Extracción de datos de archivo .csv\n",
    "\n",
    "base_dir_NREL = os.path.join( '.','data')\n",
    "output_dir = os.path.join( '.','output')\n",
    "ciudad_NREL = 'Cali'\n",
    "fuente = 'NREL'\n",
    "serie_csv_NREL = os.path.join(base_dir_NREL,ciudad_NREL,fuente+'.csv')\n",
    "serie_pd_NREL = pd.read_csv(serie_csv_NREL, sep = ';', encoding='latin-1')"
   ]
  },
  {
   "cell_type": "code",
   "execution_count": 1315,
   "metadata": {},
   "outputs": [],
   "source": [
    "# Utilización de funciones antes definidas para reorganizar Datos en resolución horaria en resoluciones diaria y mensual\n",
    "\n",
    "ghi_mensual_loc_NREL = ghi_mensual(serie_pd_NREL)\n",
    "ghi_diario_loc_NREL = ghi_dia(ghi_mensual_loc_NREL)\n",
    "datos_NREL = sorted(ghi_diario_loc_NREL[\"GHIdiario\"])"
   ]
  },
  {
   "cell_type": "code",
   "execution_count": 1316,
   "metadata": {},
   "outputs": [
    {
     "data": {
      "image/png": "[encoded data removed]",
      "text/plain": [
       "<matplotlib.figure.Figure at 0x7f8d6cd770f0>"
      ]
     },
     "metadata": {},
     "output_type": "display_data"
    }
   ],
   "source": [
    "# Grafica de energía normalizada contra timepo en meses\n",
    "\n",
    "pylab.xlabel(\"Meses\")\n",
    "pylab.ylabel(\"Energía/Energía Base NREL\")\n",
    "pylab.title(ciudad_IDEAM+' NREL',fontweight=\"bold\")\n",
    "numdatos = range(len(datos_NREL))\n",
    "pylab.plot(numdatos,datos_NREL/datos_IDEAM[0],'-r', label=ciudad_NREL+' NREL')\n",
    "pylab.legend(loc='upper left')\n",
    "pylab.savefig(os.path.join(output_dir,ciudad_NREL+'_NREL.png'), dpi=600)"
   ]
  },
  {
   "cell_type": "markdown",
   "metadata": {},
   "source": [
    "***"
   ]
  },
  {
   "cell_type": "markdown",
   "metadata": {},
   "source": [
    "## Gráficas de GHI a partir de datos satelitales (NREL)\n",
    "\n",
    "A continuación se presentan las gráfica, para cuatro ciudades diferente, del GHI empleando el código inmediatamente anterior.\n",
    "\n",
    "<img src=\"output/Cali_NREL.png\",width=500, height=200>\n",
    "##### <div style=\"text-align: center;\">Gráfica 5. GHI local de Cali según datos satelitales</div>\n",
    "\n",
    "<img src=\"output/Carmendebolivar_NREL.png\",width=500, height=200>\n",
    "##### <div style=\"text-align: center;\">Gráfica 6. GHI local de Carmen de Bolivar según datos satelitales</div>\n",
    "\n",
    "<img src=\"output/Medellin_NREL.png\",width=500, height=200>\n",
    "##### <div style=\"text-align: center;\">Gráfica 7. GHI local de Medellin según datos satelitales</div>\n",
    "\n",
    "<img src=\"output/Uribia_NREL.png\",width=500, height=200>\n",
    "##### <div style=\"text-align: center;\">Gráfica 8. GHI local de Uriba según datos satelitales</div>"
   ]
  },
  {
   "cell_type": "markdown",
   "metadata": {},
   "source": [
    "***"
   ]
  },
  {
   "cell_type": "markdown",
   "metadata": {},
   "source": [
    "## Comparación de GHI entre IDEAM y NREL"
   ]
  },
  {
   "cell_type": "code",
   "execution_count": 1317,
   "metadata": {
    "scrolled": false
   },
   "outputs": [
    {
     "data": {
      "image/png": "[encoded data removed]",
      "text/plain": [
       "<matplotlib.figure.Figure at 0x7f8d6c94e7f0>"
      ]
     },
     "metadata": {},
     "output_type": "display_data"
    }
   ],
   "source": [
    "pylab.xlabel(\"Meses\")\n",
    "pylab.ylabel(\"Energía/Energía Base IDEAM\")\n",
    "pylab.title(ciudad_IDEAM+' Comparacion IDEAM y NREL',fontweight=\"bold\")\n",
    "numdatos1 = range(len(datos_IDEAM))\n",
    "pylab.plot(numdatos1,datos_IDEAM/datos_IDEAM[0],'-k', label= ciudad_IDEAM+' IDEAM')\n",
    "numdatos2 = range(len(datos_NREL))\n",
    "pylab.plot(numdatos2,datos_NREL/datos_IDEAM[0],'-r', label= ciudad_NREL+' NREL')\n",
    "pylab.legend(loc='upper left')\n",
    "pylab.savefig(os.path.join(output_dir, ciudad_IDEAM+'_IDEAM_vs_'+ciudad_NREL+'_NREL.png'), dpi=600)"
   ]
  },
  {
   "cell_type": "markdown",
   "metadata": {},
   "source": [
    "***"
   ]
  },
  {
   "cell_type": "markdown",
   "metadata": {},
   "source": [
    "## Gráficas de GHI comparadas\n",
    "\n",
    "A continucion se presentan las graficas donde se compara el GHI tomado de IDEAM y de datos satelitales (RNEL).\n",
    "\n",
    "<img src=\"output/Cali_IDEAM_vs_Cali_NREL.png\",width=500, height=200>\n",
    "##### <div style=\"text-align: center;\">Gráfica 9. GHI local de Cali comparando IDEAM y NREL</div>\n",
    "\n",
    "<img src=\"output/Carmendebolivar_IDEAM_vs_Carmendebolivar_NREL.png\",width=500, height=200>\n",
    "##### <div style=\"text-align: center;\">Gráfica 10. GHI local de Carmen de Bolivar comparando IDEAM y NREL</div>\n",
    "\n",
    "<img src=\"output/Medellin_IDEAM_vs_Medellin_NREL.png\",width=500, height=200>\n",
    "##### <div style=\"text-align: center;\">Gráfica 11. GHI local de Medellin comparando IDEAM y NREL</div>\n",
    "\n",
    "<img src=\"output/Uribia_IDEAM_vs_Uribia_NREL.png\",width=500, height=200>\n",
    "##### <div style=\"text-align: center;\">Gráfica 12. GHI local de Uribia comparando IDEAM y NREL</div>"
   ]
  },
  {
   "cell_type": "markdown",
   "metadata": {},
   "source": [
    "***"
   ]
  },
  {
   "cell_type": "markdown",
   "metadata": {},
   "source": [
    "## Ajuste de NREL a IDEAM según elección temporal\n",
    "\n",
    "A continuación, se pretende ajustar los datos de NREL a los datos de IDEAM por medio del método MCP tomando como parámetros de ajuste lapsos de 3, 6 y 9 meses para un mismo año.\n",
    "\n",
    "En este caso los tres lapsos se tomaron arbitrariamente como sigue:\n",
    "\n",
    "|Año  |# Meses|Segemento de meses |\n",
    "|-----|-------|:-----------------:|\n",
    "|2010 |3      |1 a 3              |\n",
    "|2010 |6      |2 a 7              |\n",
    "|2010 |9      |3 a 11             |\n",
    "<div style=\"text-align: center;\"> **Tabla 1. Seleccion de lapsos**</div>\n",
    "\n",
    "La fórmula empleada MCP es:\n",
    "\n",
    "<div style=\"text-align: center;\"> $\\hat{y}=(\\mu_y-(\\sigma_y/\\sigma_x)\\mu _x)+(\\sigma_y/\\sigma_x)x$ </div>\n",
    "\n",
    "Donde:\n",
    "\n",
    "$\\hat{y}$ = NREL ajustados\n",
    "\n",
    "$\\mu_y$ = Media IDEAM\n",
    "\n",
    "$\\mu_X$ = Media NREL\n",
    "\n",
    "$\\sigma_y$ = Desviación estandar de IDEAM\n",
    "\n",
    "$\\sigma_x$ = Desviación estandar de NREL\n",
    "\n",
    "$x$ = Datos de NREL"
   ]
  },
  {
   "cell_type": "code",
   "execution_count": 1330,
   "metadata": {},
   "outputs": [],
   "source": [
    "# Para sacar datos de una matriz antes definida para un año y mes(es) especificos.\n",
    "\n",
    "agno_int=2010\n",
    "mes_in_int=3\n",
    "mes_fin_int=11\n",
    "\n",
    "datos_de_interes_IDEAM_df=serie_pd_IDEAM[(serie_pd_IDEAM[\"AÑO\"]==agno_int) \n",
    "                                         & (serie_pd_IDEAM[\"MES\"]>=mes_in_int) & (serie_pd_IDEAM[\"MES\"]<=mes_fin_int)]\n",
    "\n",
    "datos_de_interes_NREL_df=serie_pd_NREL[(serie_pd_NREL[\"AÑO\"]==agno_int) \n",
    "                                       & (serie_pd_NREL[\"MES\"]>=mes_in_int) & (serie_pd_NREL[\"MES\"]<=mes_fin_int)]"
   ]
  },
  {
   "cell_type": "code",
   "execution_count": 1331,
   "metadata": {},
   "outputs": [],
   "source": [
    "# Calculo de la media de los datos de interes\n",
    "\n",
    "media_IDEAM=datos_de_interes_IDEAM_df.loc[:,\"IDEAM\"].mean()\n",
    "media_NREL=datos_de_interes_NREL_df.loc[:,\"NREL\"].mean()\n"
   ]
  },
  {
   "cell_type": "code",
   "execution_count": 1332,
   "metadata": {},
   "outputs": [],
   "source": [
    "# Funcion de calculo de la desviacion estandar\n",
    "\n",
    "def ghi_desv(datos_ghi, prom):\n",
    "    suma=0\n",
    "    for dato in datos_ghi:\n",
    "        suma += (float(dato)- prom)**2\n",
    "    desv = sqrt(float(suma)/(len(datos_ghi)-1))\n",
    "    return desv"
   ]
  },
  {
   "cell_type": "code",
   "execution_count": 1333,
   "metadata": {},
   "outputs": [],
   "source": [
    "# Calculo de DESVIACION ESTANDAR\n",
    "desv_IDEAM=ghi_desv(datos_de_interes_IDEAM_df.loc[:,\"IDEAM\"], media_IDEAM)\n",
    "desv_NREL=ghi_desv(datos_de_interes_NREL_df.loc[:,\"NREL\"], media_NREL)"
   ]
  },
  {
   "cell_type": "code",
   "execution_count": 1334,
   "metadata": {},
   "outputs": [],
   "source": [
    "# Estimacion de los datos corregidos que contiene numeros negativos.\n",
    "est= (media_IDEAM-((desv_IDEAM/desv_NREL)*media_NREL))+((desv_IDEAM/desv_NREL)*(serie_pd_NREL.loc[:,\"NREL\"]))\n",
    "\n",
    "# Correccion de los datos negativos presentes en los datos corregidos.\n",
    "est[est < 0] = 0"
   ]
  },
  {
   "cell_type": "code",
   "execution_count": 1335,
   "metadata": {},
   "outputs": [],
   "source": [
    "# Asigancion de datos GHI ajustados a nueva matriz mod\n",
    "\n",
    "serie_pd_NREL_mod=serie_pd_NREL.copy()\n",
    "\n",
    "serie_pd_NREL_mod[\"NREL\"]=est\n",
    "\n",
    "datos_de_interes_NREL_mod_df=serie_pd_NREL[(serie_pd_NREL[\"AÑO\"]==agno_int) \n",
    "                                           & (serie_pd_NREL[\"MES\"]>=mes_in_int) & (serie_pd_NREL[\"MES\"]<=mes_fin_int)]"
   ]
  },
  {
   "cell_type": "code",
   "execution_count": 1336,
   "metadata": {},
   "outputs": [],
   "source": [
    "# Utilización de funciones antes definidas para reorganizar Datos en resolución horaria en resoluciones diaria y mensual\n",
    "\n",
    "ghi_mensual_loc_NREL_mod = ghi_mensual(serie_pd_NREL_mod)\n",
    "ghi_diario_loc_NREL_mod = ghi_dia(ghi_mensual_loc_NREL_mod)\n",
    "datos_NREL_mod = sorted(ghi_diario_loc_NREL_mod[\"GHIdiario\"])"
   ]
  },
  {
   "cell_type": "code",
   "execution_count": 1337,
   "metadata": {
    "scrolled": false
   },
   "outputs": [
    {
     "data": {
      "image/png": "[encoded data removed]",
      "text/plain": [
       "<matplotlib.figure.Figure at 0x7f8d6c981cc0>"
      ]
     },
     "metadata": {},
     "output_type": "display_data"
    }
   ],
   "source": [
    "pylab.xlabel(\"Meses\")\n",
    "pylab.ylabel(\"Energía/Energía Base IDEAM\")\n",
    "pylab.title(ciudad_IDEAM+' Comparacion IDEAM, NREL y NREL mod',fontweight=\"bold\")\n",
    "\n",
    "numdatos1 = range(len(datos_IDEAM))\n",
    "pylab.plot(numdatos1,datos_IDEAM/datos_IDEAM[0],'-k', label= ciudad_IDEAM+' IDEAM')\n",
    "\n",
    "numdatos2 = range(len(datos_NREL))\n",
    "pylab.plot(numdatos2,datos_NREL/datos_IDEAM[0],'-r', label= ciudad_NREL+' NREL')\n",
    "\n",
    "numdatos3 = range(len(datos_NREL_mod))\n",
    "pylab.plot(numdatos3,datos_NREL_mod/datos_IDEAM[0],'-b', label= ciudad_IDEAM+' NREL mod')\n",
    "pylab.legend(loc='upper left')\n",
    "\n",
    "pylab.savefig(os.path.join(output_dir, ciudad_IDEAM+'_IDEAM_vs_'+ciudad_NREL+'_NREL_mod_3.png'), dpi=600)"
   ]
  },
  {
   "cell_type": "markdown",
   "metadata": {},
   "source": [
    "A continucion se presenta la grafica anterior para tres ciudades diferentes para 3 lapsos de tiempo diferentes.\n",
    "\n",
    "***\n",
    "\n",
    "### Cali\n",
    "\n",
    "<img src=\"output/Cali_IDEAM_vs_Cali_NREL_mod.png\",width=500, height=200>\n",
    "##### <div style=\"text-align: center;\">Gráfica 13. GHI local de Cali comparando IDEAM, NREL y NREL mod para 3 meses</div>\n",
    "\n",
    "<img src=\"output/Cali_IDEAM_vs_Cali_NREL_mod_2.png\",width=500, height=200>\n",
    "##### <div style=\"text-align: center;\">Gráfica 14. GHI local de Cali comparando IDEAM, NREL y NREL mod para 6 meses</div>\n",
    "\n",
    "<img src=\"output/Cali_IDEAM_vs_Cali_NREL_mod_3.png\",width=500, height=200>\n",
    "##### <div style=\"text-align: center;\">Gráfica 15. GHI local de Cali comparando IDEAM, NREL y NREL mod para 9 meses</div>\n",
    "\n",
    "***\n",
    "\n",
    "### Carmen de Bolivar\n",
    "\n",
    "<img src=\"output/Carmendebolivar_IDEAM_vs_Carmendebolivar_NREL_mod.png\",width=500, height=200>\n",
    "##### <div style=\"text-align: center;\">Gráfica 16. GHI local de Carmen de Bolivar comparando IDEAM, NREL y NREL mod para 3 meses</div>\n",
    "\n",
    "<img src=\"output/Carmendebolivar_IDEAM_vs_Carmendebolivar_NREL_mod_2.png\",width=500, height=200>\n",
    "##### <div style=\"text-align: center;\">Gráfica 17. GHI local de Carmen de Bolivar comparando IDEAM, NREL y NREL mod para 6 meses</div>\n",
    "\n",
    "<img src=\"output/Carmendebolivar_IDEAM_vs_Carmendebolivar_NREL_mod_3.png\",width=500, height=200>\n",
    "##### <div style=\"text-align: center;\">Gráfica 18. GHI local de Carmen de Bolivar comparando IDEAM, NREL y NREL mod para 9 meses</div>\n",
    "\n",
    "***\n",
    "\n",
    "### Medellin\n",
    "\n",
    "<img src=\"output/Medellin_IDEAM_vs_Medellin_NREL_mod.png\",width=500, height=200>\n",
    "##### <div style=\"text-align: center;\">Gráfica 19. GHI local de Medellin comparando IDEAM, NREL y NREL mod para 3 meses</div>\n",
    "\n",
    "<img src=\"output/Medellin_IDEAM_vs_Medellin_NREL_mod_2.png\",width=500, height=200>\n",
    "##### <div style=\"text-align: center;\">Gráfica 20. GHI local de Medellin comparando IDEAM, NREL y NREL mod para 6 meses</div>\n",
    "\n",
    "<img src=\"output/Medellin_IDEAM_vs_Medellin_NREL_mod_3.png\",width=500, height=200>\n",
    "##### <div style=\"text-align: center;\">Gráfica 21. GHI local de Medellin comparando IDEAM, NREL y NREL mod para 9 meses</div>\n",
    "\n",
    "***\n",
    "\n",
    "### Uribia\n",
    "\n",
    "<img src=\"output/Uribia_IDEAM_vs_Uribia_NREL_mod.png\",width=500, height=200>\n",
    "##### <div style=\"text-align: center;\">Gráfica 22. GHI local de Uribia comparando IDEAM, NREL y NREL mod para 3 meses</div>\n",
    "\n",
    "<img src=\"output/Uribia_IDEAM_vs_Uribia_NREL_mod_2.png\",width=500, height=200>\n",
    "##### <div style=\"text-align: center;\">Gráfica 23. GHI local de Uribia comparando IDEAM, NREL y NREL mod para 6 meses</div>\n",
    "\n",
    "<img src=\"output/Uribia_IDEAM_vs_Uribia_NREL_mod_3.png\",width=500, height=200>\n",
    "##### <div style=\"text-align: center;\">Gráfica 24. GHI local de Uribia comparando IDEAM, NREL y NREL mod para 9 meses</div>\n",
    " ***"
   ]
  },
  {
   "cell_type": "markdown",
   "metadata": {},
   "source": [
    "## Calculo del error entre dos series IDEAM-NREL\n",
    "\n",
    "A continuacion se calcula el error presenta entre los datos de IDEAM y los datos de NREL ajustados."
   ]
  },
  {
   "cell_type": "code",
   "execution_count": 1326,
   "metadata": {},
   "outputs": [],
   "source": [
    "# Calculo de RMSEn (Error cuadratico Medio)\n",
    "\n",
    "def ghi_error_RMSEn(datos_ideam, datos_nrel_mod):\n",
    "    maxx = max(datos_ideam)\n",
    "    minn = min(datos_ideam)\n",
    "    \n",
    "    error = sqrt(((np.array(datos_ideam)-np.array(datos_nrel_mod))**2).mean())/(maxx-minn)\n",
    "    return error\n",
    "\n",
    "# Calculo de MBE (error de sesgo medio)\n",
    "\n",
    "def ghi_error_MBE(datos_ideam, datos_nrel_mod):\n",
    "    \n",
    "    error=((np.array(datos_nrel_mod)-np.array(datos_ideam)).sum())/((np.array(datos_ideam)).sum())\n",
    "    return error\n",
    "\n",
    "# Calculo de KSI%\n",
    "\n",
    "def ghi_error_KSI(datos_ideam, datos_nrel_mod):\n",
    "    error=ks2test(np.array(datos_ideam), np.array(datos_nrel_mod))\n",
    "    return error\n",
    "\n",
    "\n",
    "\n",
    "from scipy.stats import ks_2samp as ks2test\n",
    "def errores(datos_ideam, datos_nrel):\n",
    "    maxx = max(datos_ideam)\n",
    "    minn = min(datos_ideam)\n",
    "    \n",
    "    stats_df=pd.DataFrame(columns=[\"RMSEn\",\"MBE\", \"KSI\"])\n",
    "    \n",
    "    error_RMSEn= sqrt(((np.array(datos_ideam)-np.array(datos_nrel))**2).mean())/(maxx-minn)\n",
    "    error_MBE=((np.array(datos_nrel)-np.array(datos_ideam)).sum())/((np.array(datos_ideam)).sum())\n",
    "    error_KSI= ks2test(np.array(datos_ideam), np.array(datos_nrel))\n",
    "    error={\"RMSEn\":error_RMSEn, \"MBE\":error_MBE, \"KSI\":error_KSI[0]}\n",
    "    stats_df=stats_df.append(error, ignore_index=True)\n",
    "\n",
    "    print (\"Error RMSEn:\", error_RMSEn)\n",
    "    print (\"Error MBE:\", error_MBE)\n",
    "    print (\"Error KSI:\", error_KSI)\n",
    "    \n",
    "    return stats_df"
   ]
  },
  {
   "cell_type": "code",
   "execution_count": 1327,
   "metadata": {
    "scrolled": false
   },
   "outputs": [
    {
     "name": "stdout",
     "output_type": "stream",
     "text": [
      "Error RMSEn: 0.138932824054\n",
      "Error MBE: 0.20764986328\n",
      "Error KSI: Ks_2sampResult(statistic=0.053333333333333344, pvalue=1.2978720668590104e-08)\n"
     ]
    }
   ],
   "source": [
    "error=errores(datos_de_interes_IDEAM_df.loc[:,\"IDEAM\"], datos_de_interes_NREL_mod_df.loc[:,\"NREL\"])"
   ]
  },
  {
   "cell_type": "markdown",
   "metadata": {},
   "source": [
    "## Datos de error\n",
    "\n",
    "|Ciudad\\Tipo de error|RMSEn  |MBE    |KSI    |\n",
    "|-------------------:|:-----:|:-----:|:-----:|\n",
    "| Cali               |0.0139 |0.2010 |0.0657 |\n",
    "| Carmen de Bolivar  |0.1357 |-0.1430|0.0587 |\n",
    "| Medellin           |0.1834 |0.3364 |0.1116 |\n",
    "| Uribia             |0.1267 |0.0556 |0.0236 |\n",
    "<div style=\"text-align: center;\"> **Tabla 2. Tipo de error para lapso de 3 meses** </div>\n",
    "\n",
    "\n",
    "\n",
    "|Ciudad\\Tipo de error|RMSEn  |MBE    |KSI    |\n",
    "|-------------------:|:-----:|:-----:|:-----:|\n",
    "| Cali               |0.0139 |0.2009 |0.0548 |\n",
    "| Carmen de Bolivar  |0.1263 |-0.1338|0.0580 |\n",
    "| Medellin           |0.1754 |0.2007 |0.0686 |\n",
    "| Uribia             |0.1262 |0.1110 |0.0483 |\n",
    "<div style=\"text-align: center;\"> **Tabla 3. Tipo de error para lapso de 6 meses** </div>\n",
    "\n",
    "\n",
    "\n",
    "|Ciudad\\Tipo de error|RMSEn  |MBE    |KSI    |\n",
    "|-------------------:|:-----:|:-----:|:-----:|\n",
    "| Cali               |0.0189 |0.2076 |0.0530 |\n",
    "| Carmen de Bolivar  |0.1212 |-0.0789|0.0400 |\n",
    "| Medellin           |0.1667 |0.2127 |0.0663 |\n",
    "| Uribia             |0.1267 |0.1300 |0.0533 |\n",
    "<div style=\"text-align: center;\"> **Tabla 4. Tipo de error para lapso de 9 meses** </div>"
   ]
  },
  {
   "cell_type": "code",
   "execution_count": 1339,
   "metadata": {
    "scrolled": false
   },
   "outputs": [
    {
     "data": {
      "image/png": "[encoded data removed]",
      "text/plain": [
       "<matplotlib.figure.Figure at 0x7f8d6c981d30>"
      ]
     },
     "metadata": {},
     "output_type": "display_data"
    }
   ],
   "source": [
    "lable=[\"1_RMSEn\", \"2_MBE\", \"3_KSI\"]\n",
    "plt.xlabel(\"Tipo de error\")\n",
    "plt.ylabel(\"Error\")\n",
    "plt.title(ciudad_IDEAM+' - Error IDEAM y NREL mod',fontweight=\"bold\")\n",
    "datos=(error[\"RMSEn\"], error[\"MBE\"], error[\"KSI\"])\n",
    "data=np.concatenate(datos)\n",
    "plt.bar(lable, data)\n",
    "plt.savefig(os.path.join(output_dir, ciudad_IDEAM+'_error_3.png'), dpi=600)"
   ]
  },
  {
   "cell_type": "markdown",
   "metadata": {},
   "source": [
    "A continuacion se presentan la grafica anterior para tres ciudades diferentes.\n",
    "\n",
    "<img src=\"output/Cali_error.png\",width=500, height=200>\n",
    "##### <div style=\"text-align: center;\">Gráfica 25. Error RMSEn, MBE y KSI del GHI local de Cali entre IDEAM y NREL mod</div>\n",
    "\n",
    "<img src=\"output/Carmendebolivar_error.png\",width=500, height=200>\n",
    "##### <div style=\"text-align: center;\">Gráfica 26. Error RMSEn, MBE y KSI del GHI local de Carmen de Bolivar entre IDEAM y NREL mod</div>\n",
    "\n",
    "<img src=\"output/Medellin_error.png\",width=500, height=200>\n",
    "##### <div style=\"text-align: center;\">Gráfica 27. Error RMSEn, MBE y KSI del GHI local de Medellin entre IDEAM y NREL mod</div>\n",
    "\n",
    "<img src=\"output/Uribia_error.png\",width=500, height=200>\n",
    "##### <div style=\"text-align: center;\">Gráfica 28. Error RMSEn, MBE y KSI del GHI local de Uribia entre IDEAM y NREL mod</div>"
   ]
  },
  {
   "cell_type": "markdown",
   "metadata": {},
   "source": [
    "## Calculo de la ENFICC"
   ]
  },
  {
   "cell_type": "code",
   "execution_count": 1340,
   "metadata": {},
   "outputs": [
    {
     "name": "stdout",
     "output_type": "stream",
     "text": [
      "La ENFICC 99% es:  3.33077931605\n"
     ]
    }
   ],
   "source": [
    "# 1. Implementar una función para el cálculo de la ENFICC. La entrada a dicha función es una serie de 10 años en resolución \n",
    "#    horaria y la salida debe ser la ENFICC 99%, es decir la energía que se espera se puede superar el 99% del tiempo.\n",
    "\n",
    "percentil = 0.01\n",
    "enficc = ghi_diario_loc_IDEAM.quantile(q=percentil, numeric_only=True)[\"GHIdiario\"]\n",
    "print('La ENFICC 99% es: ', enficc)"
   ]
  },
  {
   "cell_type": "markdown",
   "metadata": {},
   "source": [
    "## Datos de EFICC\n",
    "Los datos de ENFICC fueron registrados en las siguiente tabla para diferentes periodos de tiempo.\n",
    "\n",
    "|      -----         |ENFICC segun numero de meses 3 Meses     |\n",
    "|--------------------|:---------------------------------------:|\n",
    "|Ciudad              |3 Meses      |6 Meses      |9 Meses      |\n",
    "| Cali               |3.33         |3.33         |3.33         |\n",
    "| Carmen de Bolivar  |4.06         |4.06         |4.06         |\n",
    "| Medellin           |3.53         |3.53         |3.54         |\n",
    "| Uribia             |4.28         |4.28         |4.28         |\n",
    "<div style=\"text-align: center;\">**Tabla 5. ENFICC PARA DIFERENTES LPSOS DE TIEMPO**</div>"
   ]
  },
  {
   "cell_type": "markdown",
   "metadata": {},
   "source": [
    "## Analisis\n",
    "\n",
    "Tras la implementación del código anterior se graficó el ajuste de los datos satelitales contra los datos recolectados por IDEAM para tres lapsos de 3, 6 y 9 meses para 4 ciudades en particular, Cali, Carmen de Bolívar, Medellín y Uribia. Así al observar de la Grafica 13 a la Grafica 24 es notorio como los datos corregidos de Carmen de Bolivar sobre estiman en gran medida el GHI, lo cual se puede atribuir al hecho de que los datos IDEAM y NREL se interceptan cerca de la mitad de los datos registrados. De lo anterior podemos decir que el método MCP empleado en este caso no se ajusta del todo bien para casos donde cerca de la mitad de los datos NREL se encuentre por encima y la otra mitad se encuentren por debajo de los datos de IDEAM. Lo anterior se puede verificar al observar las otras tres ciudades, en donde para todos los lapsos de tiempo que se emplearon para el ajuste, la grafica de ajuste (NREL mod) si se acerca bastante a la grafica de IDEAM, o cual nos afirma que el ajuste es correcto y es preciso utilizar dicho ajuste.\n",
    "\n",
    "\n",
    "También, si se observan las gráficas 22 a 23, los datos de IDEAM de Uribia presentan tendencia lineal, caso el cual muestra el mejor ajuste a los datos de NREL.\n",
    "\n",
    "\n",
    "Si bien Medellin presenta un ajuste bastante conveniente, en el ajuste hecho con el lapso de 3 meses, presenta un sub estimación en la grafica ajustada, lo cual no es conveniente pero se prefiero por encima del caso de sobre estimación. \n",
    "\n",
    "\n",
    "Al analizar las graficas y tablas de error, se ve como al tomar 3. 6 o 9 meses como puntos de partida no se ve un gran cambio en los tipos de error. Tompoco se ve cambios en el calculo de la ENFICC, como lo muestr la tabla 5.\n",
    "\n",
    "## Conclusion\n",
    "\n",
    "Tras la realizacion de este taller fue posible implementar un codigo para el calculo de la ENFICC a partir de datos ajustados y compararlos para diferentes periodos de tiempo. A su vez se desarrollaron abilidades nuevas en lo que a programacion en python se refiere. \n",
    "Finalmente, de los datos tratados, se puede concluir que el metodo MCP y el calculo de la ENFICC resulta favorable para comportamientos lineanes del clima, tal y como lo muestran las graficas referentes a Uribia."
   ]
  }
 ],
 "metadata": {
  "kernelspec": {
   "display_name": "Python 3.6",
   "language": "python",
   "name": "python36"
  },
  "language_info": {
   "codemirror_mode": {
    "name": "ipython",
    "version": 3
   },
   "file_extension": ".py",
   "mimetype": "text/x-python",
   "name": "python",
   "nbconvert_exporter": "python",
   "pygments_lexer": "ipython3",
   "version": "3.6.3"
  }
 },
 "nbformat": 4,
 "nbformat_minor": 2
}
