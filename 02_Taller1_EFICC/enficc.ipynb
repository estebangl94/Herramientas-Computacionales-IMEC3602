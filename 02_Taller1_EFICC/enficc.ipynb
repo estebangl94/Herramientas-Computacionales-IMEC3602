{
 "cells": [
  {
   "cell_type": "markdown",
   "metadata": {},
   "source": [
    "En este cuaderno se implementan algunas funciones y algunos segmentos de código que pueden ser útiles para el desarrollo del [Taller 1](https://github.com/andresgm/Herramientas-Computacionales/tree/master/02_taller01) del curso.  \n",
    "\n",
    "Comienzo importando dos librerías que no habíamos usado hasta ahora en el curso.\n",
    "\n",
    "La librería os nos permite interactuar con algunas funcionalidades del sistema operativo. La vamos a utilizar para construir rutas a archivos que sean independientes del sistema operativo utilizado.\n",
    "\n",
    "La librería pandas es muy utilizada para análisis de datos. En primera instancia implementa una estructura de datos llamada 'dataframe' similar a una hoja de calculo. Adicionalmente, implementa numerosas funciones para realizar calculos estadísticos sobre estas estructuras."
   ]
  },
  {
   "cell_type": "code",
   "execution_count": 2,
   "metadata": {
    "inputHidden": false,
    "outputHidden": false
   },
   "outputs": [],
   "source": [
    "import os\n",
    "import pandas as pd"
   ]
  },
  {
   "cell_type": "markdown",
   "metadata": {},
   "source": [
    "Tradicional comando para facilitar el cálculo interactivo."
   ]
  },
  {
   "cell_type": "code",
   "execution_count": 3,
   "metadata": {
    "inputHidden": false,
    "outputHidden": false
   },
   "outputs": [
    {
     "name": "stdout",
     "output_type": "stream",
     "text": [
      "Populating the interactive namespace from numpy and matplotlib\n"
     ]
    }
   ],
   "source": [
    "%pylab inline"
   ]
  },
  {
   "cell_type": "markdown",
   "metadata": {},
   "source": [
    "En la siguiente celda muestro cómo podemos leer los datos desde archivos .csv a pandas dataframes.\n",
    "\n",
    "Acá se puede apreciar el uso de *os.path.join* para la creación de las rutas de los archivos. \n",
    "\n",
    "Noten la configuración de la función pd.read_csv. El parámetro sep=';' determina que las variables están separadas por punto y coma y no por coma. El encoding='latin-1' permite leer correctamente caracteres como la 'ñ'."
   ]
  },
  {
   "cell_type": "code",
   "execution_count": 4,
   "metadata": {
    "inputHidden": false,
    "outputHidden": false
   },
   "outputs": [
    {
     "data": {
      "text/plain": [
       "'/home/nbuser/library/02_Taller1_EFICC'"
      ]
     },
     "execution_count": 4,
     "metadata": {},
     "output_type": "execute_result"
    }
   ],
   "source": [
    "pwd"
   ]
  },
  {
   "cell_type": "code",
   "execution_count": 5,
   "metadata": {
    "inputHidden": false,
    "outputHidden": false
   },
   "outputs": [],
   "source": [
    "base_dir = os.path.join( '.','data')\n",
    "output_dir = os.path.join( '.','output')\n",
    "ciudad = 'Barranquilla'\n",
    "fuente = 'IDEAM'\n",
    "serie_csv = os.path.join(base_dir,ciudad,fuente+'.csv')\n",
    "serie_pd = pd.read_csv(serie_csv, sep = ';',encoding='latin-1')"
   ]
  },
  {
   "cell_type": "code",
   "execution_count": 6,
   "metadata": {
    "inputHidden": false,
    "outputHidden": false
   },
   "outputs": [
    {
     "data": {
      "text/plain": [
       "<bound method NDFrame.head of         AÑO  MES  DIA  HORA       IDEAM\n",
       "0      2010    1    1     0    0.000000\n",
       "1      2010    1    1     1    0.000000\n",
       "2      2010    1    1     2    0.000000\n",
       "3      2010    1    1     3    0.000000\n",
       "4      2010    1    1     4    0.000000\n",
       "5      2010    1    1     5    0.000000\n",
       "6      2010    1    1     6    1.063264\n",
       "7      2010    1    1     7   23.391813\n",
       "8      2010    1    1     8  153.110048\n",
       "9      2010    1    1     9  344.497608\n",
       "10     2010    1    1    10  535.885167\n",
       "11     2010    1    1    11  676.236045\n",
       "12     2010    1    1    12  753.854333\n",
       "13     2010    1    1    13  765.550239\n",
       "14     2010    1    1    14  696.438065\n",
       "15     2010    1    1    15  589.048379\n",
       "16     2010    1    1    16  425.305688\n",
       "17     2010    1    1    17  223.285486\n",
       "18     2010    1    1    18   38.277512\n",
       "19     2010    1    1    19    0.000000\n",
       "20     2010    1    1    20    0.000000\n",
       "21     2010    1    1    21    0.000000\n",
       "22     2010    1    1    22    0.000000\n",
       "23     2010    1    1    23    0.000000\n",
       "24     2010    1    2     0    0.000000\n",
       "25     2010    1    2     1    0.000000\n",
       "26     2010    1    2     2    0.000000\n",
       "27     2010    1    2     3    0.000000\n",
       "28     2010    1    2     4    0.000000\n",
       "29     2010    1    2     5    0.000000\n",
       "...     ...  ...  ...   ...         ...\n",
       "52554  2015   12   30    18   16.407813\n",
       "52555  2015   12   30    19    0.000000\n",
       "52556  2015   12   30    20    0.000000\n",
       "52557  2015   12   30    21    0.000000\n",
       "52558  2015   12   30    22    0.000000\n",
       "52559  2015   12   30    23    0.000000\n",
       "52560  2015   12   31     0    0.000000\n",
       "52561  2015   12   31     1    0.000000\n",
       "52562  2015   12   31     2    0.000000\n",
       "52563  2015   12   31     3    0.000000\n",
       "52564  2015   12   31     4    0.000000\n",
       "52565  2015   12   31     5    0.000000\n",
       "52566  2015   12   31     6    0.240092\n",
       "52567  2015   12   31     7   39.654799\n",
       "52568  2015   12   31     8  194.054501\n",
       "52569  2015   12   31     9  403.589186\n",
       "52570  2015   12   31    10  614.463737\n",
       "52571  2015   12   31    11  646.877879\n",
       "52572  2015   12   31    12  641.196584\n",
       "52573  2015   12   31    13  867.258288\n",
       "52574  2015   12   31    14  706.604963\n",
       "52575  2015   12   31    15  712.332613\n",
       "52576  2015   12   31    16  376.301744\n",
       "52577  2015   12   31    17  130.215242\n",
       "52578  2015   12   31    18   15.407813\n",
       "52579  2015   12   31    19    0.000000\n",
       "52580  2015   12   31    20    0.000000\n",
       "52581  2015   12   31    21    0.000000\n",
       "52582  2015   12   31    22    0.000000\n",
       "52583  2015   12   31    23    0.000000\n",
       "\n",
       "[52584 rows x 5 columns]>"
      ]
     },
     "execution_count": 6,
     "metadata": {},
     "output_type": "execute_result"
    }
   ],
   "source": [
    "serie_pd.head"
   ]
  },
  {
   "cell_type": "markdown",
   "metadata": {},
   "source": [
    "En la siguiente celda, implemento dos funciones útiles para realizar algunos de los cálculo necesarios para el cálculo de la ENFICC como está determinado en la [Resolución CREG 071 de 2006](http://apolo.creg.gov.co/Publicac.nsf/1c09d18d2d5ffb5b05256eee00709c02/4f8f33924247ce4a0525785a007a6d74?OpenDocument).  \n",
    "\n",
    "La función *ghi_mensual* calcula la energía total en $kWh/m^2$ para cada mes en la serie de datos. Con esta información, la función *ghi_dia* calcula el promedio diario de cada mes."
   ]
  },
  {
   "cell_type": "code",
   "execution_count": 7,
   "metadata": {
    "inputHidden": false,
    "outputHidden": false
   },
   "outputs": [],
   "source": [
    "def ghi_mensual(serie_horaria):\n",
    "    agnos = sorted(serie_horaria['AÑO'].unique())\n",
    "    ghi_df = pd.DataFrame(columns=[\"AÑO\", \"MES\", \"DIAS\", \"GHImes\"])\n",
    "    for agno in agnos:\n",
    "        for mes in range(1,13):\n",
    "            nombre_energia = list(serie_horaria)[-1]\n",
    "            dias = sorted(serie_horaria[(serie_horaria['AÑO'] == agno) &\n",
    "                        (serie_horaria['MES'] == mes)][\"DIA\"].unique())\n",
    "            ghi_mes = serie_horaria.loc[((serie_horaria[\"AÑO\"] == agno)\n",
    "                            & (serie_horaria[\"MES\"] == mes)),\n",
    "                                        nombre_energia].sum()/1000\n",
    "            ghi_dict = {\"AÑO\":agno, \"MES\":mes, \"DIAS\":dias[-1],\n",
    "                        \"GHImes\":ghi_mes}\n",
    "            ghi_df = ghi_df.append(ghi_dict, ignore_index=True)\n",
    "    return ghi_df\n",
    "\n",
    "def ghi_dia(serie_ghi_mensual):\n",
    "    agnos = sorted(serie_ghi_mensual['AÑO'].unique())\n",
    "    ghi_df = pd.DataFrame(columns=[\"AÑO\", \"MES\", \"GHIdiario\"])\n",
    "    for agno in agnos:\n",
    "        for mes in range(1,13):\n",
    "            dias = serie_ghi_mensual.loc[((serie_ghi_mensual[\"AÑO\"] == agno)\n",
    "                            & (serie_ghi_mensual[\"MES\"] == mes))\n",
    "                                         ,\"DIAS\"].item()\n",
    "            ghi_diario = serie_ghi_mensual.loc[(\n",
    "                (serie_ghi_mensual[\"AÑO\"] == agno)\n",
    "                            & (serie_ghi_mensual[\"MES\"] == mes)),\n",
    "                \"GHImes\"].item()/dias\n",
    "            ghi_dict = {\"AÑO\":agno, \"MES\":mes, \"GHIdiario\":ghi_diario}\n",
    "            ghi_df = ghi_df.append(ghi_dict, ignore_index=True)\n",
    "    return ghi_df"
   ]
  },
  {
   "cell_type": "markdown",
   "metadata": {},
   "source": [
    "En la siguiente celda se utilizan las dos funciones definidas previamente y se organizan los valores promedio mensuales."
   ]
  },
  {
   "cell_type": "code",
   "execution_count": 8,
   "metadata": {
    "inputHidden": false,
    "outputHidden": false
   },
   "outputs": [],
   "source": [
    "ghi_mensual_loc = ghi_mensual(serie_pd)\n",
    "ghi_diario_loc = ghi_dia(ghi_mensual_loc)\n",
    "datos_IDEAM = sorted(ghi_diario_loc[\"GHIdiario\"])"
   ]
  },
  {
   "cell_type": "markdown",
   "metadata": {},
   "source": [
    "A continuación hago una sencilla gráfica de la distribución de energía promedio mensual."
   ]
  },
  {
   "cell_type": "code",
   "execution_count": 9,
   "metadata": {
    "inputHidden": false,
    "outputHidden": false
   },
   "outputs": [
    {
     "data": {
      "image/png": "[encoded data removed]",
      "text/plain": [
       "<matplotlib.figure.Figure at 0x7f977d9fe0f0>"
      ]
     },
     "metadata": {},
     "output_type": "display_data"
    }
   ],
   "source": [
    "pylab.xlabel(\"Datos\")\n",
    "pylab.ylabel(\"Energía/Energía Base IDEAM\")\n",
    "numdatos = range(len(datos_IDEAM))\n",
    "pylab.plot(numdatos,datos_IDEAM/datos_IDEAM[0],'-k', label='IDEAM')\n",
    "pylab.legend(loc='upper left')\n",
    "pylab.savefig(os.path.join(output_dir,'valledupar_IDEAM.png'), dpi=600)"
   ]
  },
  {
   "cell_type": "markdown",
   "metadata": {},
   "source": [
    "Finalmente, se calcula el percentil correspondiente al valor de la ENFICC que se desea calcular."
   ]
  },
  {
   "cell_type": "code",
   "execution_count": 10,
   "metadata": {
    "inputHidden": false,
    "outputHidden": false
   },
   "outputs": [
    {
     "name": "stdout",
     "output_type": "stream",
     "text": [
      "La ENFICC 99% es:  4.16059025817\n"
     ]
    }
   ],
   "source": [
    "percentil = 0.01\n",
    "enficc = ghi_diario_loc.quantile(q=percentil, \n",
    "                                 numeric_only=True)[\"GHIdiario\"]\n",
    "print('La ENFICC 99% es: ', enficc)"
   ]
  },
  {
   "cell_type": "code",
   "execution_count": 11,
   "metadata": {
    "inputHidden": false,
    "outputHidden": false
   },
   "outputs": [
    {
     "data": {
      "text/plain": [
       "['AÑO', 'MES', 'DIAS', 'GHImes']"
      ]
     },
     "execution_count": 11,
     "metadata": {},
     "output_type": "execute_result"
    }
   ],
   "source": [
    "list(ghi_mensual_loc)"
   ]
  },
  {
   "cell_type": "code",
   "execution_count": null,
   "metadata": {
    "inputHidden": false,
    "outputHidden": false
   },
   "outputs": [],
   "source": []
  }
 ],
 "metadata": {
  "kernel_info": {
   "name": "python3"
  },
  "kernelspec": {
   "display_name": "Python 3",
   "language": "python",
   "name": "python3"
  },
  "language_info": {
   "codemirror_mode": {
    "name": "ipython",
    "version": 3
   },
   "file_extension": ".py",
   "mimetype": "text/x-python",
   "name": "python",
   "nbconvert_exporter": "python",
   "pygments_lexer": "ipython3",
   "version": "3.5.4"
  },
  "nteract": {
   "version": "0.6.2"
  }
 },
 "nbformat": 4,
 "nbformat_minor": 4
}
