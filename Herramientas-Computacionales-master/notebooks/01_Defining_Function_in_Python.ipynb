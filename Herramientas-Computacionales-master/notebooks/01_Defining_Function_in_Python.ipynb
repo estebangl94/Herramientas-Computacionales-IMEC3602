{
  "cells": [
    {
      "cell_type": "raw",
      "source": [
        "Text provided under a Creative Commons Attribution license, CC-BY.  All code is made available under the FSF-approved MIT license.  (c) Lorena A. Barba, Gilbert F. Forsyth 2015. Thanks to NSF for support via CAREER award #1149784."
      ],
      "metadata": {}
    },
    {
      "cell_type": "markdown",
      "source": [
        "Adaptado del curso de la [Prof. Lorena Barba](lorenabarba.com) - [CFDPython](https://github.com/barbagroup/CFDPython)."
      ],
      "metadata": {}
    },
    {
      "cell_type": "markdown",
      "source": [
        "Defining Functions in Python \n",
        "----"
      ],
      "metadata": {}
    },
    {
      "cell_type": "markdown",
      "source": [
        "We'll begin with a trivial example: a function which adds two numbers.  \n",
        "\n",
        "To create a function in Python, we start with the following:\n",
        "\n",
        "    def simpleadd(a,b):\n",
        "\nThis statement creates a function called `simpleadd` which takes two inputs, `a` and `b`. Let's execute this definition code."
      ],
      "metadata": {}
    },
    {
      "cell_type": "code",
      "source": [
        "def simpleadd(a, b):\n",
        "    return a+b"
      ],
      "outputs": [],
      "execution_count": 1,
      "metadata": {
        "collapsed": false
      }
    },
    {
      "cell_type": "markdown",
      "source": [
        "The `return` statement tells Python what data to return in response to being called.  Now we can try calling our `simpleadd` function:"
      ],
      "metadata": {}
    },
    {
      "cell_type": "code",
      "source": [
        "simpleadd(3, 4)"
      ],
      "outputs": [
        {
          "output_type": "execute_result",
          "execution_count": 2,
          "data": {
            "text/plain": [
              "7"
            ]
          },
          "metadata": {}
        }
      ],
      "execution_count": 2,
      "metadata": {
        "collapsed": false
      }
    },
    {
      "cell_type": "markdown",
      "source": [
        "Of course, there can be much more happening between the `def` line and the `return` line.  In this way, one can build code in a *modular* way. Let's try a function which returns the `n`-th number in the Fibonacci sequence.  "
      ],
      "metadata": {}
    },
    {
      "cell_type": "code",
      "source": [
        "def fibonacci(n):\n",
        "    a, b = 0, 1\n",
        "    for i in range(n):\n",
        "        a, b = b, a + b\n",
        "    return a\n",
        "    "
      ],
      "outputs": [],
      "execution_count": 3,
      "metadata": {
        "collapsed": false
      }
    },
    {
      "cell_type": "code",
      "source": [
        "fibonacci(7)"
      ],
      "outputs": [
        {
          "output_type": "execute_result",
          "execution_count": 4,
          "data": {
            "text/plain": [
              "13"
            ]
          },
          "metadata": {}
        }
      ],
      "execution_count": 4,
      "metadata": {
        "collapsed": false
      }
    },
    {
      "cell_type": "markdown",
      "source": [
        "Once defined, the function `fibonacci` can be called like any of the built-in Python functions that we've already used. For exmaple, we might want to print out the Fibonacci sequence up through the `n`-th value:"
      ],
      "metadata": {}
    },
    {
      "cell_type": "code",
      "source": [
        "for n in range(10):\n",
        "    print(fibonacci(n))"
      ],
      "outputs": [
        {
          "output_type": "stream",
          "name": "stdout",
          "text": [
            "0\n",
            "1\n",
            "1\n",
            "2\n",
            "3\n",
            "5\n",
            "8\n",
            "13\n",
            "21\n",
            "34\n"
          ]
        }
      ],
      "execution_count": 5,
      "metadata": {
        "collapsed": false
      }
    },
    {
      "cell_type": "markdown",
      "source": [
        "We will use the capacity of defining our own functions in Python to help us build code that is easier to reuse, easier to maintain, easier to share!"
      ],
      "metadata": {}
    },
    {
      "cell_type": "code",
      "source": [
        "from IPython.core.display import HTML\n",
        "def css_styling():\n",
        "    styles = open(\"../styles/custom.css\", \"r\").read()\n",
        "    return HTML(styles)\n",
        "css_styling()"
      ],
      "outputs": [
        {
          "output_type": "execute_result",
          "execution_count": 1,
          "data": {
            "text/plain": [
              "<IPython.core.display.HTML object>"
            ],
            "text/html": [
              "<link href='http://fonts.googleapis.com/css?family=Fenix' rel='stylesheet' type='text/css'>\n",
              "<link href='http://fonts.googleapis.com/css?family=Alegreya+Sans:100,300,400,500,700,800,900,100italic,300italic,400italic,500italic,700italic,800italic,900italic' rel='stylesheet' type='text/css'>\n",
              "<link href='http://fonts.googleapis.com/css?family=Source+Code+Pro:300,400' rel='stylesheet' type='text/css'>\n",
              "<style>\n",
              "    @font-face {\n",
              "        font-family: \"Computer Modern\";\n",
              "        src: url('http://mirrors.ctan.org/fonts/cm-unicode/fonts/otf/cmunss.otf');\n",
              "    }\n",
              "    div.cell{\n",
              "        width:800px;\n",
              "        margin-left:16% !important;\n",
              "        margin-right:auto;\n",
              "    }\n",
              "    h1 {\n",
              "        font-family: 'Alegreya Sans', sans-serif;\n",
              "    }\n",
              "    h2 {\n",
              "        font-family: 'Fenix', serif;\n",
              "    }\n",
              "    h3{\n",
              "\t\tfont-family: 'Fenix', serif;\n",
              "        margin-top:12px;\n",
              "        margin-bottom: 3px;\n",
              "       }\n",
              "\th4{\n",
              "\t\tfont-family: 'Fenix', serif;\n",
              "       }\n",
              "    h5 {\n",
              "        font-family: 'Alegreya Sans', sans-serif;\n",
              "    }\t   \n",
              "    div.text_cell_render{\n",
              "        font-family: 'Alegreya Sans',Computer Modern, \"Helvetica Neue\", Arial, Helvetica, Geneva, sans-serif;\n",
              "        line-height: 135%;\n",
              "        font-size: 120%;\n",
              "        width:600px;\n",
              "        margin-left:auto;\n",
              "        margin-right:auto;\n",
              "    }\n",
              "    .CodeMirror{\n",
              "            font-family: \"Source Code Pro\";\n",
              "\t\t\tfont-size: 90%;\n",
              "    }\n",
              "/*    .prompt{\n",
              "        display: None;\n",
              "    }*/\n",
              "    .text_cell_render h1 {\n",
              "        font-weight: 200;\n",
              "        font-size: 50pt;\n",
              "\t\tline-height: 100%;\n",
              "        color:#CD2305;\n",
              "        margin-bottom: 0.5em;\n",
              "        margin-top: 0.5em;\n",
              "        display: block;\n",
              "    }\t\n",
              "    .text_cell_render h5 {\n",
              "        font-weight: 300;\n",
              "        font-size: 16pt;\n",
              "        color: #CD2305;\n",
              "        font-style: italic;\n",
              "        margin-bottom: .5em;\n",
              "        margin-top: 0.5em;\n",
              "        display: block;\n",
              "    }\n",
              "    \n",
              "    .warning{\n",
              "        color: rgb( 240, 20, 20 )\n",
              "        }  \n",
              "</style>\n",
              "<script>\n",
              "    MathJax.Hub.Config({\n",
              "                        TeX: {\n",
              "                           extensions: [\"AMSmath.js\"]\n",
              "                           },\n",
              "                tex2jax: {\n",
              "                    inlineMath: [ ['$','$'], [\"\\\\(\",\"\\\\)\"] ],\n",
              "                    displayMath: [ ['$$','$$'], [\"\\\\[\",\"\\\\]\"] ]\n",
              "                },\n",
              "                displayAlign: 'center', // Change this to 'center' to center equations.\n",
              "                \"HTML-CSS\": {\n",
              "                    styles: {'.MathJax_Display': {\"margin\": 4}}\n",
              "                }\n",
              "        });\n",
              "</script>\n"
            ]
          },
          "metadata": {}
        }
      ],
      "execution_count": 1,
      "metadata": {
        "collapsed": false
      }
    },
    {
      "cell_type": "markdown",
      "source": [
        "> (The cell above executes the style for this notebook.)"
      ],
      "metadata": {}
    }
  ],
  "metadata": {
    "kernelspec": {
      "name": "python3",
      "language": "python",
      "display_name": "Python 3"
    },
    "language_info": {
      "name": "python",
      "version": "3.6.3",
      "mimetype": "text/x-python",
      "codemirror_mode": {
        "name": "ipython",
        "version": 3
      },
      "pygments_lexer": "ipython3",
      "nbconvert_exporter": "python",
      "file_extension": ".py"
    },
    "kernel_info": {
      "name": "python3"
    },
    "nteract": {
      "version": "0.5.5"
    }
  },
  "nbformat": 4,
  "nbformat_minor": 0
}